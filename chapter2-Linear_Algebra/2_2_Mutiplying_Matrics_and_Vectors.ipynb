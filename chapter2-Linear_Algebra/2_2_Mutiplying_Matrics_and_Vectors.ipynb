{
 "cells": [
  {
   "cell_type": "markdown",
   "metadata": {},
   "source": [
    "# 2.2 Multiplying Matrix and Vectors\n",
    "**dot product**   two matrix product **C=AB** , A must have the same number of columns as B has rows. If **A** is of shape m*n and **B** is of shape n*p, then **C** is of shape m*p\n",
    "**C=AB** as $C_{i,j}=\\sum_{k}A_{i,k}B_{k,j} $"
   ]
  },
  {
   "cell_type": "code",
   "execution_count": 1,
   "metadata": {
    "collapsed": true
   },
   "outputs": [],
   "source": [
    "import numpy as np"
   ]
  },
  {
   "cell_type": "code",
   "execution_count": 10,
   "metadata": {
    "collapsed": false
   },
   "outputs": [
    {
     "name": "stdout",
     "output_type": "stream",
     "text": [
      "[[ 1.  1.  1.  1.]\n",
      " [ 1.  1.  1.  1.]] \n",
      "matrix A shape: (2, 4) \n",
      " [[2 2 2]\n",
      " [3 3 3]\n",
      " [4 4 4]\n",
      " [5 5 5]] \n",
      "matrix B shape: (4, 3) \n",
      " [[ 14.  14.  14.]\n",
      " [ 14.  14.  14.]] \n",
      "matrix C shape: (2, 3) \n",
      "\n",
      "[[ 14.  14.  14.]\n",
      " [ 14.  14.  14.]]\n"
     ]
    }
   ],
   "source": [
    "A = np.ones([2,4])\n",
    "B = np.matrix([[2,2,2],[3,3,3],[4,4,4],[5,5,5]])\n",
    "C = np.dot(A,B)\n",
    "print(A,'\\nmatrix A shape:',A.shape,'\\n',\n",
    "      B,'\\nmatrix B shape:',B.shape,'\\n',\n",
    "      C,'\\nmatrix C shape:',C.shape,'\\n')\n",
    "C = np.zeros([A.shape[0],B.shape[1]])\n",
    "\n",
    "for i in range(C.shape[0]):\n",
    "    for j in range(C.shape[1]):\n",
    "        tmp = 0\n",
    "        for k in range(A.shape[1]):\n",
    "            tmp += A[i,k]*B[k,j]\n",
    "        C[i,j] = tmp\n",
    "print(C)"
   ]
  },
  {
   "cell_type": "markdown",
   "metadata": {},
   "source": [
    "**matrix useful properites**\n",
    "\n",
    "·**A(B+C)=AB+AC**\n",
    "\n",
    "·**A(BC)=(AB)C**\n",
    "\n",
    "·$x^Ty=y^Tx$\n",
    "\n",
    "·**$(AB)^T=B^TA^T$**"
   ]
  }
 ],
 "metadata": {
  "kernelspec": {
   "display_name": "Python [conda env:anaconda3]",
   "language": "python",
   "name": "conda-env-anaconda3-py"
  },
  "language_info": {
   "codemirror_mode": {
    "name": "ipython",
    "version": 3
   },
   "file_extension": ".py",
   "mimetype": "text/x-python",
   "name": "python",
   "nbconvert_exporter": "python",
   "pygments_lexer": "ipython3",
   "version": "3.6.3"
  }
 },
 "nbformat": 4,
 "nbformat_minor": 1
}
