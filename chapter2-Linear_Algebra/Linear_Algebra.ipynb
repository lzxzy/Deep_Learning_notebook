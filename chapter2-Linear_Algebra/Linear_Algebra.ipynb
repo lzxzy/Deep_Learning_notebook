{
 "cells": [
  {
   "cell_type": "code",
   "execution_count": 20,
   "metadata": {
    "collapsed": false
   },
   "outputs": [],
   "source": [
    "import numpy as np\n",
    "import matplotlib.pyplot as plt\n",
    "from mpl_toolkits.mplot3d import Axes3D\n",
    "%matplotlib inline"
   ]
  },
  {
   "cell_type": "markdown",
   "metadata": {},
   "source": [
    "# 线性代数\n",
    "数学基础在深度学习算法中起着至关重要的作用，无论是优化、新算法提出、特征的提取都涉及到大量数学知识，由于深度学习是在大规模数据集上进行学习推理，为了对大规模数据进行高效运算，矩阵和线性代数就起着至关重要的作用。"
   ]
  },
  {
   "cell_type": "markdown",
   "metadata": {},
   "source": [
    "## 2.1 Scalars, Vectors, Matrices and Tensors\n",
    "标量，向量，矩阵，张量"
   ]
  },
  {
   "cell_type": "markdown",
   "metadata": {},
   "source": [
    "### Scalars\n",
    "It's just only one or a list of numbers, which have no any direction info. Typically use lower-case variable name like i.e.  a $\\in$ R"
   ]
  },
  {
   "cell_type": "code",
   "execution_count": 4,
   "metadata": {
    "collapsed": true
   },
   "outputs": [],
   "source": [
    "a = 3 # just a number\n",
    "b = np.array([1,1,3,0]) #i.e. a list of number denote the slop of the line"
   ]
  },
  {
   "cell_type": "markdown",
   "metadata": {},
   "source": [
    "### Vectors\n",
    "vector is a an array number with the order. Typically give vectors lower case names written in bold typeface i.e. **x**, each element in vector identified by writing its name in italic typeface, with a subscript. exp. $x_1$，each element in the vector direct a direction. for example a Two-dimensional vector **x**, the first element $x_1$ represent x_ix direction length, and the second element $x_2$ represent y_ix direction length"
   ]
  },
  {
   "cell_type": "code",
   "execution_count": 31,
   "metadata": {
    "collapsed": false
   },
   "outputs": [
    {
     "data": {
      "image/png": "[encoded data removed]",
      "text/plain": [
       "<Figure size 432x288 with 1 Axes>"
      ]
     },
     "metadata": {},
     "output_type": "display_data"
    }
   ],
   "source": [
    "v1 = np.array([4,7]) #two-dimensinal vector \n",
    "v2 = np.array([3,4,6]) #three-dimensinal vector\n",
    "plt.quiver([0, 0], [0, 0], v1[0], v1[1], angles='xy', scale_units='xy', scale=1)\n",
    "plt.axis([0,10,0,10])\n",
    "plt.show()"
   ]
  },
  {
   "cell_type": "markdown",
   "metadata": {},
   "source": [
    "### Matrices\n",
    "matrics is a 2-D array of numbers, each element in matrics has two index row & coloum. Usually give matrices upper-case variable names with bold typeface exp. **A** $\\in R^{m*n}$  means matrices **A** has m rows and n coloums."
   ]
  },
  {
   "cell_type": "code",
   "execution_count": 32,
   "metadata": {
    "collapsed": false
   },
   "outputs": [
    {
     "name": "stdout",
     "output_type": "stream",
     "text": [
      "[[2 4 6]\n",
      " [1 3 5]]\n"
     ]
    }
   ],
   "source": [
    "A = np.matrix([[2,4,6],[1,3,5]]) # a 2 rows 3 coloums matrices\n",
    "print(A)"
   ]
  },
  {
   "cell_type": "code",
   "execution_count": null,
   "metadata": {
    "collapsed": true
   },
   "outputs": [],
   "source": []
  }
 ],
 "metadata": {
  "anaconda-cloud": {},
  "kernelspec": {
   "display_name": "Python [conda env:anaconda3]",
   "language": "python",
   "name": "conda-env-anaconda3-py"
  },
  "language_info": {
   "codemirror_mode": {
    "name": "ipython",
    "version": 3
   },
   "file_extension": ".py",
   "mimetype": "text/x-python",
   "name": "python",
   "nbconvert_exporter": "python",
   "pygments_lexer": "ipython3",
   "version": "3.6.3"
  }
 },
 "nbformat": 4,
 "nbformat_minor": 1
}
