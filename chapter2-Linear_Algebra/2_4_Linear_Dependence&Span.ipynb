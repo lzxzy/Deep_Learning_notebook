{
 "cells": [
  {
   "cell_type": "markdown",
   "metadata": {},
   "source": [
    "# 2.4 Linear Dependence and Span\n",
    "# 线性依赖和生成子空间\n",
    "在$Ax=b$这个例子中，为了使$A^{-1}$存在，要求对**b**中的每一个元素都有唯一的一个解。\n",
    "然而可能出现的情况是对**b**中的部分元素，可能出现没有解或无穷多个解的情况（对于特定的向量**b**不会出现多于一个少于无穷个解的情况）。\n",
    "为了分析上式中有多少解，将**A**中每列当作指定**x**中元素相对原点（*origin*）可以移动的方向，并决定了有多少种方法可以最终得到**b**。因此，\n",
    "**x**中的每个元素的结果应该是在相应的方向应该移动的距离，对于指定的$x_i$决定在对应的方向*列（column）*$i$上移动的距离。\n",
    "$$Ax=\\sum_ix_iA_{:,i.}$$\n",
    "这种操作称作*线性组合（linear combination）*，对于给定一组向量$v={v^{(1)},...,v^{(n)}}$的线性组合为，对于每个向量$v^(i)$乘以一个相关系数并加和得到的一组值\n",
    "$$\\sum_ic_iv^{(i)}$$\n",
    "由此对应上面的例子，求解**b**就是在求解一组线性组合，**A**为一组向量，x为对应的相关系数。\n",
    "一组向量的生成子空间（span）就是一组从原始向量的线性组合中所获得的所有点。要确定$Ax=b$是否有解，即为测试**b**是否在**A**的列所产生的生成子空间中，这个特定的span叫做列空间or**A**的值域。"
   ]
  },
  {
   "cell_type": "code",
   "execution_count": null,
   "metadata": {
    "collapsed": true
   },
   "outputs": [],
   "source": []
  }
 ],
 "metadata": {
  "kernelspec": {
   "display_name": "Python [conda env:anaconda3]",
   "language": "python",
   "name": "conda-env-anaconda3-py"
  },
  "language_info": {
   "codemirror_mode": {
    "name": "ipython",
    "version": 3
   },
   "file_extension": ".py",
   "mimetype": "text/x-python",
   "name": "python",
   "nbconvert_exporter": "python",
   "pygments_lexer": "ipython3",
   "version": "3.6.3"
  }
 },
 "nbformat": 4,
 "nbformat_minor": 1
}
