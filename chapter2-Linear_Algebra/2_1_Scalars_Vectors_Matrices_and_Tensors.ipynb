{
 "cells": [
  {
   "cell_type": "code",
   "execution_count": 20,
   "metadata": {
    "collapsed": false
   },
   "outputs": [],
   "source": [
    "import numpy as np\n",
    "import matplotlib.pyplot as plt\n",
    "from mpl_toolkits.mplot3d import Axes3D\n",
    "%matplotlib inline"
   ]
  },
  {
   "cell_type": "markdown",
   "metadata": {},
   "source": [
    "# 线性代数\n",
    "数学基础在深度学习算法中起着至关重要的作用，无论是优化、新算法提出、特征的提取都涉及到大量数学知识，由于深度学习是在大规模数据集上进行学习推理，为了对大规模数据进行高效运算，矩阵和线性代数就起着至关重要的作用。"
   ]
  },
  {
   "cell_type": "markdown",
   "metadata": {},
   "source": [
    "## 2.1 Scalars, Vectors, Matrices and Tensors\n",
    "标量，向量，矩阵，张量"
   ]
  },
  {
   "cell_type": "markdown",
   "metadata": {},
   "source": [
    "### Scalars\n",
    "It's just only one or a list of numbers, which have no any direction info. Typically use lower-case variable name like i.e.  a $\\in$ R"
   ]
  },
  {
   "cell_type": "code",
   "execution_count": 4,
   "metadata": {
    "collapsed": true
   },
   "outputs": [],
   "source": [
    "a = 3 # just a number\n",
    "b = np.array([1,1,3,0]) #i.e. a list of number denote the slop of the line"
   ]
  },
  {
   "cell_type": "markdown",
   "metadata": {},
   "source": [
    "### Vectors\n",
    "vector is a an array number with the order. Typically give vectors lower case names written in bold typeface i.e. **x**, each element in vector identified by writing its name in italic typeface, with a subscript. exp. $x_1$，each element in the vector direct a direction. for example a Two-dimensional vector **x**, the first element $x_1$ represent x_ix direction length, and the second element $x_2$ represent y_ix direction length"
   ]
  },
  {
   "cell_type": "code",
   "execution_count": 31,
   "metadata": {
    "collapsed": false
   },
   "outputs": [
    {
     "data": {
      "image/png": "[encoded data removed]",
      "text/plain": [
       "<Figure size 432x288 with 1 Axes>"
      ]
     },
     "metadata": {},
     "output_type": "display_data"
    }
   ],
   "source": [
    "v1 = np.array([4,7]) #two-dimensinal vector \n",
    "v2 = np.array([3,4,6]) #three-dimensinal vector\n",
    "plt.quiver([0, 0], [0, 0], v1[0], v1[1], angles='xy', scale_units='xy', scale=1)\n",
    "plt.axis([0,10,0,10])\n",
    "plt.show()"
   ]
  },
  {
   "cell_type": "markdown",
   "metadata": {},
   "source": [
    "### Matrices\n",
    "matrics is a 2-D array of numbers, each element in matrics has two index row & coloum. Usually give matrices upper-case variable names with bold typeface exp. **A** $\\in R^{m*n}$  means matrices **A** has m rows and n coloums."
   ]
  },
  {
   "cell_type": "code",
   "execution_count": 32,
   "metadata": {
    "collapsed": false
   },
   "outputs": [
    {
     "name": "stdout",
     "output_type": "stream",
     "text": [
      "[[2 4 6]\n",
      " [1 3 5]]\n"
     ]
    }
   ],
   "source": [
    "A = np.matrix([[2,4,6],[1,3,5]]) # a 2 rows 3 coloums matrices\n",
    "print(A)"
   ]
  },
  {
   "cell_type": "markdown",
   "metadata": {},
   "source": [
    "#### Tensor \n",
    "an array more than tow axes( a Matrix more than two dimensinals), each element in tensor has direction"
   ]
  },
  {
   "cell_type": "code",
   "execution_count": 40,
   "metadata": {
    "collapsed": false
   },
   "outputs": [
    {
     "name": "stdout",
     "output_type": "stream",
     "text": [
      "tensor([[[ 1,  2,  3],\n",
      "         [ 4,  5,  6]],\n",
      "\n",
      "        [[ 7,  8,  9],\n",
      "         [10, 11, 12]]]) \n",
      " tensor([[[-1.7890e+00, -1.2520e+00,  1.1902e+00],\n",
      "         [-7.7919e-01, -4.3972e-01, -5.8351e-01],\n",
      "         [-2.1119e-01, -6.4315e-01, -1.2686e+00],\n",
      "         [-7.1265e-01, -1.0288e+00, -2.0348e-01],\n",
      "         [ 8.9032e-01,  8.0246e-01,  1.6322e-01],\n",
      "         [-4.0526e-01,  4.3916e-01, -7.3148e-01],\n",
      "         [ 1.1959e+00, -9.8391e-01,  3.1638e-01]],\n",
      "\n",
      "        [[ 1.1903e-01, -2.7069e-01,  2.1509e+00],\n",
      "         [ 6.4686e-01, -1.2924e+00, -8.0439e-01],\n",
      "         [-2.1584e+00,  3.4216e-01,  6.2599e-01],\n",
      "         [ 1.2105e+00,  1.1278e+00, -3.1189e-01],\n",
      "         [ 6.1893e-01,  1.8522e+00, -6.6022e-01],\n",
      "         [-3.9483e-01, -3.3339e-01,  2.1712e+00],\n",
      "         [ 5.0753e-01,  5.1270e-01,  2.5007e-01]],\n",
      "\n",
      "        [[-4.5891e-01,  2.0246e+00, -3.7417e-01],\n",
      "         [-8.1532e-01,  8.5126e-01, -7.5808e-02],\n",
      "         [ 3.0979e-01,  3.3155e-01, -1.8398e+00],\n",
      "         [-8.2425e-01, -4.7284e-01, -1.9439e+00],\n",
      "         [ 1.4106e+00,  1.9640e+00,  9.9717e-01],\n",
      "         [-1.5700e-01,  1.0682e-01,  2.3156e-01],\n",
      "         [ 7.6111e-01,  2.1858e+00,  1.5150e-01]],\n",
      "\n",
      "        [[ 1.3759e-01,  6.7231e-01, -1.6218e+00],\n",
      "         [ 2.4396e-01, -5.8098e-01,  1.1314e+00],\n",
      "         [ 1.2047e+00, -1.2884e-02, -6.7059e-01],\n",
      "         [ 1.1748e+00,  7.9073e-01,  7.3315e-01],\n",
      "         [ 7.5896e-02,  5.5143e-01,  1.3875e-01],\n",
      "         [-2.0209e+00,  7.2709e-01, -2.7516e-01],\n",
      "         [-1.7559e+00, -2.6032e-01, -3.6758e-01]],\n",
      "\n",
      "        [[-1.2671e+00,  3.3007e-01,  6.9284e-01],\n",
      "         [-7.2040e-01,  1.3811e+00, -1.5256e+00],\n",
      "         [-1.3779e+00,  1.7379e+00,  8.1918e-01],\n",
      "         [ 1.7893e+00,  7.6322e-01, -7.4351e-01],\n",
      "         [-2.9650e-01,  9.7060e-01,  1.0879e+00],\n",
      "         [ 8.7795e-01, -1.6335e+00,  4.9107e-05],\n",
      "         [-7.2826e-02, -3.9113e-01,  6.8411e-01]]], dtype=torch.float64)\n"
     ]
    }
   ],
   "source": [
    "import torch\n",
    "T1 = torch.tensor([[[1,2,3],[4,5,6]],[[7,8,9],[10,11,12]]])\n",
    "T2 = torch.randn(5,7,3, dtype=torch.double)\n",
    "print(T1,'\\n',T2)"
   ]
  },
  {
   "cell_type": "markdown",
   "metadata": {},
   "source": [
    "#### Matrices operations\n",
    "**transpose** The transpose of a matrix is the mirror image across a diagonal line."
   ]
  },
  {
   "cell_type": "code",
   "execution_count": 53,
   "metadata": {
    "collapsed": false
   },
   "outputs": [
    {
     "name": "stdout",
     "output_type": "stream",
     "text": [
      "[[1 2 3]\n",
      " [4 5 6]]\n",
      "transpose1:\n",
      " [[ 1.  4.]\n",
      " [ 2.  5.]\n",
      " [ 3.  6.]] \n",
      "\n",
      "transopse2:\n",
      " [[1 4]\n",
      " [2 5]\n",
      " [3 6]]\n"
     ]
    }
   ],
   "source": [
    "#tranpose1:\n",
    "A = np.matrix([[1,2,3],[4,5,6]])\n",
    "print(A)\n",
    "A_T = np.empty([A.shape[1],A.shape[0]])\n",
    "for i in range(A.shape[0]):\n",
    "    for j in range(A.shape[1]):\n",
    "        A_T[j,i] = A[i,j]\n",
    "print('transpose1:\\n',A_T,'\\n')\n",
    "#trainpose2:\n",
    "print('transopse2:\\n',A.T)"
   ]
  },
  {
   "cell_type": "markdown",
   "metadata": {},
   "source": [
    "**add** two matrices which have same shape, can be add togethor by addinf therir corresponding elements **C = A + B** as $C_{i,j} = A_{i,j} + B_{i,j}$"
   ]
  },
  {
   "cell_type": "code",
   "execution_count": 62,
   "metadata": {
    "collapsed": false
   },
   "outputs": [
    {
     "name": "stdout",
     "output_type": "stream",
     "text": [
      "[[ 1.  1.  1.]\n",
      " [ 1.  1.  1.]\n",
      " [ 1.  1.  1.]] \n",
      " [[2 2 2]\n",
      " [2 2 2]\n",
      " [2 2 2]] \n",
      " [[ 3.  3.  3.]\n",
      " [ 3.  3.  3.]\n",
      " [ 3.  3.  3.]]\n"
     ]
    }
   ],
   "source": [
    "A = np.ones([3,3])\n",
    "B = np.matrix([[2,2,2],[2,2,2],[2,2,2]])\n",
    "C = A + B\n",
    "print(A,'\\n',B,'\\n',C)"
   ]
  },
  {
   "cell_type": "code",
   "execution_count": 64,
   "metadata": {
    "collapsed": false
   },
   "outputs": [
    {
     "data": {
      "text/plain": [
       "array([[ 2.,  2.,  2.],\n",
       "       [ 2.,  2.,  2.],\n",
       "       [ 2.,  2.,  2.]])"
      ]
     },
     "execution_count": 64,
     "metadata": {},
     "output_type": "execute_result"
    }
   ],
   "source": [
    "# add a scaler to matrices just add the scale to each element in matries\n",
    "A + 1"
   ]
  },
  {
   "cell_type": "markdown",
   "metadata": {},
   "source": [
    "**broadcasting** Add a vector to matrix is add to each row of the matrix. **C = A + b** as $C_{i,j} = A_{i,j} + b_j$"
   ]
  },
  {
   "cell_type": "code",
   "execution_count": 66,
   "metadata": {
    "collapsed": false
   },
   "outputs": [
    {
     "name": "stdout",
     "output_type": "stream",
     "text": [
      "[[ 1.  1.  1.]\n",
      " [ 1.  1.  1.]\n",
      " [ 1.  1.  1.]] \n",
      " [[1]\n",
      " [2]\n",
      " [3]] \n",
      " [[ 2.  2.  2.]\n",
      " [ 3.  3.  3.]\n",
      " [ 4.  4.  4.]]\n"
     ]
    }
   ],
   "source": [
    "A = np.ones([3,3])\n",
    "b = np.matrix([[1],[2],[3]])\n",
    "C = A + b\n",
    "print(A,'\\n',b,'\\n',C)"
   ]
  },
  {
   "cell_type": "code",
   "execution_count": null,
   "metadata": {
    "collapsed": true
   },
   "outputs": [],
   "source": []
  }
 ],
 "metadata": {
  "anaconda-cloud": {},
  "kernelspec": {
   "display_name": "Python [conda env:anaconda3]",
   "language": "python",
   "name": "conda-env-anaconda3-py"
  },
  "language_info": {
   "codemirror_mode": {
    "name": "ipython",
    "version": 3
   },
   "file_extension": ".py",
   "mimetype": "text/x-python",
   "name": "python",
   "nbconvert_exporter": "python",
   "pygments_lexer": "ipython3",
   "version": "3.6.3"
  }
 },
 "nbformat": 4,
 "nbformat_minor": 1
}
